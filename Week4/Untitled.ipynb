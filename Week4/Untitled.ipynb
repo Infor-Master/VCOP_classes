{
 "cells": [
  {
   "cell_type": "code",
   "execution_count": 1,
   "id": "08fbe001-d659-439f-9fc3-ebe49e4e13d0",
   "metadata": {},
   "outputs": [
    {
     "name": "stderr",
     "output_type": "stream",
     "text": [
      "<>:37: SyntaxWarning: \"is\" with a literal. Did you mean \"==\"?\n",
      "<>:37: SyntaxWarning: \"is\" with a literal. Did you mean \"==\"?\n",
      "C:\\Users\\rodri\\AppData\\Local\\Temp/ipykernel_32716/1471619645.py:37: SyntaxWarning: \"is\" with a literal. Did you mean \"==\"?\n",
      "  if y%20 is 19:\n"
     ]
    },
    {
     "name": "stdout",
     "output_type": "stream",
     "text": [
      "Frame didn't arrive within 5000\n"
     ]
    }
   ],
   "source": [
    "## License: Apache 2.0. See LICENSE file in root directory.\n",
    "## Copyright(c) 2015-2017 Intel Corporation. All Rights Reserved.\n",
    "\n",
    "#####################################################\n",
    "## librealsense tutorial #1 - Accessing depth data ##\n",
    "#####################################################\n",
    "\n",
    "# First import the library\n",
    "import pyrealsense2 as rs\n",
    "\n",
    "try:\n",
    "    # Create a context object. This object owns the handles to all connected realsense devices\n",
    "    pipeline = rs.pipeline()\n",
    "\n",
    "    # Configure streams\n",
    "    config = rs.config()\n",
    "    config.enable_stream(rs.stream.depth, 640, 480, rs.format.z16, 30)\n",
    "\n",
    "    # Start streaming\n",
    "    pipeline.start(config)\n",
    "\n",
    "    while True:\n",
    "        # This call waits until a new coherent set of frames is available on a device\n",
    "        # Calls to get_frame_data(...) and get_frame_timestamp(...) on a device will return stable values until wait_for_frames(...) is called\n",
    "        frames = pipeline.wait_for_frames()\n",
    "        depth = frames.get_depth_frame()\n",
    "        if not depth: continue\n",
    "\n",
    "        # Print a simple text-based representation of the image, by breaking it into 10x20 pixel regions and approximating the coverage of pixels within one meter\n",
    "        coverage = [0]*64\n",
    "        for y in range(480):\n",
    "            for x in range(640):\n",
    "                dist = depth.get_distance(x, y)\n",
    "                if 0 < dist and dist < 1:\n",
    "                    coverage[x//10] += 1\n",
    "            \n",
    "            if y%20 is 19:\n",
    "                line = \"\"\n",
    "                for c in coverage:\n",
    "                    line += \" .:nhBXWW\"[c//25]\n",
    "                coverage = [0]*64\n",
    "                print(line)\n",
    "    exit(0)\n",
    "#except rs.error as e:\n",
    "#    # Method calls agaisnt librealsense objects may throw exceptions of type pylibrs.error\n",
    "#    print(\"pylibrs.error was thrown when calling %s(%s):\\n\", % (e.get_failed_function(), e.get_failed_args()))\n",
    "#    print(\"    %s\\n\", e.what())\n",
    "#    exit(1)\n",
    "except Exception as e:\n",
    "    print(e)\n",
    "    pass"
   ]
  },
  {
   "cell_type": "code",
   "execution_count": null,
   "id": "9712b3a9-2554-4e97-b2e3-c7329f0f96eb",
   "metadata": {},
   "outputs": [],
   "source": []
  }
 ],
 "metadata": {
  "interpreter": {
   "hash": "4fe03a64ced7afd5003e66ef750e6ec1379a83f23aaac1388e3de27ca9a68aa0"
  },
  "kernelspec": {
   "display_name": "Python 3.8.11 64-bit ('VCOP': conda)",
   "name": "python3"
  },
  "language_info": {
   "codemirror_mode": {
    "name": "ipython",
    "version": 3
   },
   "file_extension": ".py",
   "mimetype": "text/x-python",
   "name": "python",
   "nbconvert_exporter": "python",
   "pygments_lexer": "ipython3",
   "version": "3.8.11"
  }
 },
 "nbformat": 4,
 "nbformat_minor": 5
}
