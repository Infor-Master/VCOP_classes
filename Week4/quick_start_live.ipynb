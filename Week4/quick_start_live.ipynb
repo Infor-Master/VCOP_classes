{
 "cells": [
  {
   "cell_type": "markdown",
   "id": "6a9af650",
   "metadata": {
    "cell_style": "center"
   },
   "source": [
    "## Getting Started\n",
    "To prepare the LibRealSense Python environment, follow the steps below:\n",
    "\n",
    "- Download [PyCharm](https://www.jetbrains.com/pycharm/download/#section=windows) integrated development environment\n",
    "- Download [Python 3.7](https://www.python.org/downloads/release/python-3710/) or later \n",
    "- Download [get-pip.py](https://bootstrap.pypa.io/get-pip.py) and run the following commands in PyCharm terminal: \n",
    "    - ***python get-pip.py*** &emsp;&emsp;&emsp;&emsp;&nbsp;Pip tool to install Pip Python package\n",
    "    - ***pip install pyrealsense2*** &emsp;&nbsp;Intel RealSense cross-platform open-source API\n",
    "    - ***pip install numpy*** &emsp;&emsp;&emsp;&emsp;&nbsp;Fundamental package for scientific computing\n",
    "    - ***pip install matplotlib*** &emsp;&emsp;&ensp;&nbsp;2D plotting library producing publication quality figures\n",
    "    - ***pip install opencv-python***&nbsp;&nbsp;OpenCV packages for Python\n",
    "    <br> \n",
    "        some of these packages are not directly used here, but maybe useful in other examples\n"
   ]
  },
  {
   "cell_type": "markdown",
   "id": "810eceef",
   "metadata": {},
   "source": [
    "### This Demo is for users who have RealSense Depth camera. It is tested on Linux and Windows 10.\n",
    "- If you run on Linux, install [udev-rules](https://github.com/IntelRealSense/librealsense/blob/5ff27fca5aaeec4736d6bb3bfb958fee82ee198b/scripts/setup_udev_rules.sh)\n",
    "- No further installation needed if you run on Windows.\n",
    "\n",
    "### The demo will query sensors in the connected device, then it will display depth and color frames using Pipeline API.\n",
    "- Check that the connected device is detected in Device Manager.\n",
    "- The output from each code snippet can be seen under it. You can change the code and try different things and then press the play button to the left of each code snippet to run again. "
   ]
  },
  {
   "cell_type": "code",
   "execution_count": 1,
   "id": "a6650a3e",
   "metadata": {
    "scrolled": true
   },
   "outputs": [
    {
     "name": "stdout",
     "output_type": "stream",
     "text": [
      "Environment is Ready\n"
     ]
    }
   ],
   "source": [
    "import os\n",
    "import numpy as np                        # Fundamental package for scientific computing\n",
    "import matplotlib.pyplot as plt           # 2D plotting library producing publication quality figures\n",
    "from IPython.display import clear_output  # Clear the screen\n",
    "import pyrealsense2 as rs                 # Intel RealSense cross-platform open-source API\n",
    "print(\"Environment is Ready\")"
   ]
  },
  {
   "cell_type": "markdown",
   "id": "a4c0b23b",
   "metadata": {},
   "source": [
    "# Creating a Pipeline\n",
    "\n",
    "The pipeline is a high-level API for streaming and processing frames, abstracting camera configurations and simplifying user interaction with the device and computer vision processing modules. Config is a utility object used by a pipeline."
   ]
  },
  {
   "cell_type": "code",
   "execution_count": 2,
   "id": "71410211",
   "metadata": {},
   "outputs": [
    {
     "name": "stdout",
     "output_type": "stream",
     "text": [
      "Pipeline is created\n"
     ]
    }
   ],
   "source": [
    "pipe = rs.pipeline()                      # Create a pipeline\n",
    "cfg = rs.config()                         # Create a default configuration\n",
    "print(\"Pipeline is created\")"
   ]
  },
  {
   "cell_type": "markdown",
   "id": "40759664",
   "metadata": {},
   "source": [
    "## Find RealSense Devices"
   ]
  },
  {
   "cell_type": "code",
   "execution_count": 3,
   "id": "2dc23eb0",
   "metadata": {},
   "outputs": [
    {
     "name": "stdout",
     "output_type": "stream",
     "text": [
      "Searching Devices..\n",
      "Intel RealSense D455\n"
     ]
    }
   ],
   "source": [
    "print(\"Searching Devices..\")\n",
    "selected_devices = []                     # Store connected device(s)\n",
    "\n",
    "for d in rs.context().devices:\n",
    "    selected_devices.append(d)\n",
    "    print(d.get_info(rs.camera_info.name))\n",
    "if not selected_devices:\n",
    "    print(\"No RealSense device is connected!\")"
   ]
  },
  {
   "cell_type": "markdown",
   "id": "bbea5e98",
   "metadata": {},
   "source": [
    "## Find Depth and RGB Sensors\n",
    "Only RGB and Depth sensors are relevant for this demo."
   ]
  },
  {
   "cell_type": "code",
   "execution_count": 4,
   "id": "464b266f",
   "metadata": {},
   "outputs": [
    {
     "name": "stdout",
     "output_type": "stream",
     "text": [
      "Required sensors for device: Intel RealSense D455\n",
      " - Depth sensor found\n",
      " - RGB sensor found\n"
     ]
    }
   ],
   "source": [
    "rgb_sensor = depth_sensor = None\n",
    "\n",
    "for device in selected_devices:                         \n",
    "    print(\"Required sensors for device:\", device.get_info(rs.camera_info.name))\n",
    "    for s in device.sensors:                              # Show available sensors in each device\n",
    "        if s.get_info(rs.camera_info.name) == 'RGB Camera':\n",
    "            print(\" - RGB sensor found\")\n",
    "            rgb_sensor = s                                # Set RGB sensor\n",
    "        if s.get_info(rs.camera_info.name) == 'Stereo Module':\n",
    "            depth_sensor = s                              # Set Depth sensor\n",
    "            print(\" - Depth sensor found\")"
   ]
  },
  {
   "cell_type": "markdown",
   "id": "5b077114",
   "metadata": {},
   "source": [
    "## Displaying Depth and Color Frames"
   ]
  },
  {
   "cell_type": "code",
   "execution_count": 5,
   "id": "b5512f87",
   "metadata": {},
   "outputs": [
    {
     "ename": "RuntimeError",
     "evalue": "Frame didn't arrive within 5000",
     "output_type": "error",
     "traceback": [
      "\u001B[1;31m---------------------------------------------------------------------------\u001B[0m",
      "\u001B[1;31mRuntimeError\u001B[0m                              Traceback (most recent call last)",
      "\u001B[1;32m~\\AppData\\Local\\Temp/ipykernel_34540/3948928370.py\u001B[0m in \u001B[0;36m<module>\u001B[1;34m\u001B[0m\n\u001B[0;32m      6\u001B[0m \u001B[1;33m\u001B[0m\u001B[0m\n\u001B[0;32m      7\u001B[0m \u001B[1;32mfor\u001B[0m \u001B[0m_\u001B[0m \u001B[1;32min\u001B[0m \u001B[0mrange\u001B[0m\u001B[1;33m(\u001B[0m\u001B[1;36m10\u001B[0m\u001B[1;33m)\u001B[0m\u001B[1;33m:\u001B[0m                                       \u001B[1;31m# Skip first frames to give syncer and auto-exposure time to adjust\u001B[0m\u001B[1;33m\u001B[0m\u001B[1;33m\u001B[0m\u001B[0m\n\u001B[1;32m----> 8\u001B[1;33m     \u001B[0mframeset\u001B[0m \u001B[1;33m=\u001B[0m \u001B[0mpipe\u001B[0m\u001B[1;33m.\u001B[0m\u001B[0mwait_for_frames\u001B[0m\u001B[1;33m(\u001B[0m\u001B[1;33m)\u001B[0m\u001B[1;33m\u001B[0m\u001B[1;33m\u001B[0m\u001B[0m\n\u001B[0m\u001B[0;32m      9\u001B[0m \u001B[1;33m\u001B[0m\u001B[0m\n\u001B[0;32m     10\u001B[0m \u001B[1;32mfor\u001B[0m \u001B[0m_\u001B[0m \u001B[1;32min\u001B[0m \u001B[0mrange\u001B[0m\u001B[1;33m(\u001B[0m\u001B[1;36m5\u001B[0m\u001B[1;33m)\u001B[0m\u001B[1;33m:\u001B[0m                                        \u001B[1;31m# Increase to display more frames\u001B[0m\u001B[1;33m\u001B[0m\u001B[1;33m\u001B[0m\u001B[0m\n",
      "\u001B[1;31mRuntimeError\u001B[0m: Frame didn't arrive within 5000"
     ]
    },
    {
     "data": {
      "image/png": "[encoded data removed]",
      "text/plain": [
       "<Figure size 864x288 with 2 Axes>"
      ]
     },
     "metadata": {
      "needs_background": "light"
     },
     "output_type": "display_data"
    }
   ],
   "source": [
    "colorizer = rs.colorizer()                                # Mapping depth data into RGB color space\n",
    "profile = pipe.start(cfg)                                 # Configure and start the pipeline\n",
    "\n",
    "fig, axs = plt.subplots(nrows=1, ncols=2, figsize=(12,4)) # Show 1 row with 2 columns for Depth and RGB frames\n",
    "title = [\"Depth Image\", \"RGB Image\"]                      # Title for each frame\n",
    "\n",
    "for _ in range(10):                                       # Skip first frames to give syncer and auto-exposure time to adjust\n",
    "    frameset = pipe.wait_for_frames()\n",
    "    \n",
    "for _ in range(5):                                        # Increase to display more frames\n",
    "    frameset = pipe.wait_for_frames()                     # Read frames from the file, packaged as a frameset\n",
    "    depth_frame = frameset.get_depth_frame()              # Get depth frame\n",
    "    color_frame = frameset.get_color_frame()              # Get RGB frame\n",
    "\n",
    "    colorized_streams = []                                # This is what we'll actually display\n",
    "    if depth_frame:\n",
    "        colorized_streams.append(np.asanyarray(colorizer.colorize(depth_frame).get_data()))\n",
    "    if color_frame:\n",
    "        colorized_streams.append(np.asanyarray(color_frame.get_data()))\n",
    "    \n",
    "    for i, ax in enumerate(axs.flatten()):                # Iterate over all (Depth and RGB) colorized frames\n",
    "        if i >= len(colorized_streams): continue          # When getting less frames than expected\n",
    "        plt.sca(ax)                                       # Set the current Axes and Figure\n",
    "        plt.imshow(colorized_streams[i])                  # colorized frame to display\n",
    "        plt.title(title[i])                               # Add title for each subplot\n",
    "    clear_output(wait=True)                               # Clear any previous frames from the display\n",
    "    plt.tight_layout()                                    # Adjusts display size to fit frames\n",
    "    plt.pause(1)                                          # Make the playback slower so it's noticeable\n",
    "    \n",
    "pipe.stop()                                               # Stop the pipeline\n",
    "print(\"Done!\")"
   ]
  },
  {
   "cell_type": "code",
   "execution_count": null,
   "id": "e9c715a0-ff3e-4a11-906b-007a029d05bb",
   "metadata": {},
   "outputs": [],
   "source": []
  }
 ],
 "metadata": {
  "interpreter": {
   "hash": "4fe03a64ced7afd5003e66ef750e6ec1379a83f23aaac1388e3de27ca9a68aa0"
  },
  "kernelspec": {
   "display_name": "Python 3.8.11 64-bit ('VCOP': conda)",
   "name": "python3"
  },
  "language_info": {
   "codemirror_mode": {
    "name": "ipython",
    "version": 3
   },
   "file_extension": ".py",
   "mimetype": "text/x-python",
   "name": "python",
   "nbconvert_exporter": "python",
   "pygments_lexer": "ipython3",
   "version": "3.8.11"
  }
 },
 "nbformat": 4,
 "nbformat_minor": 5
}